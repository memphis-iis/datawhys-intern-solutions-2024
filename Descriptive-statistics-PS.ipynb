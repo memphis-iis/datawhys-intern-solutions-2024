{
 "cells": [
  {
   "cell_type": "markdown",
   "metadata": {
    "deletable": false,
    "editable": false
   },
   "source": [
    "Copyright 2020 Andrew M. Olney, Dale Bowman and made available under [CC BY-SA](https://creativecommons.org/licenses/by-sa/4.0) for text and [Apache-2.0](http://www.apache.org/licenses/LICENSE-2.0) for code."
   ]
  },
  {
   "cell_type": "markdown",
   "metadata": {},
   "source": [
    "# Descriptive statistics: Problem solving\n",
    "\n",
    "Let's practice some of the skills we learned in the last session on descriptive statistics."
   ]
  },
  {
   "cell_type": "markdown",
   "metadata": {},
   "source": [
    "## Import libraries\n",
    "\n",
    "We can calculate measures of central tendency and spread using `pandas dataframes`.\n",
    "\n",
    "First thing you need to do is import `pandas` below.\n",
    "[Use the Reference if you've forgotten any of these steps](Reference.html)."
   ]
  },
  {
   "cell_type": "code",
   "execution_count": 1,
   "metadata": {},
   "outputs": [],
   "source": [
    "import pandas as pd\n",
    "\n",
    "#<xml xmlns=\"https://developers.google.com/blockly/xml\"><variables><variable id=\"zq]t,,UR`GWj6?Hub9%a\">pd</variable></variables><block type=\"importAs_Python\" id=\"o[3wY[w:R*b$p^Ow/ZZw\" x=\"125\" y=\"352\"><field name=\"libraryName\">pandas</field><field name=\"libraryAlias\" id=\"zq]t,,UR`GWj6?Hub9%a\">pd</field></block></xml>"
   ]
  },
  {
   "cell_type": "markdown",
   "metadata": {},
   "source": [
    "## Load data\n",
    "\n",
    "We're going to work with data from before, on flowers.\n",
    "\n",
    "Load the CSV file `\"datasets/flower-data-2020.csv\"` into a dataframe."
   ]
  },
  {
   "cell_type": "code",
   "execution_count": 2,
   "metadata": {},
   "outputs": [],
   "source": [
    "dataframe = pd.read_csv('datasets/flower-data-2020.csv')\n",
    "\n",
    "#<xml xmlns=\"https://developers.google.com/blockly/xml\"><variables><variable id=\"[V~uW+0L/4GW;45ulv+l\">dataframe</variable><variable id=\"zq]t,,UR`GWj6?Hub9%a\">pd</variable></variables><block type=\"variables_set\" id=\"pspF!@hdz,LBbxbCt.T,\" x=\"97\" y=\"189\"><field name=\"VAR\" id=\"[V~uW+0L/4GW;45ulv+l\">dataframe</field><value name=\"VALUE\"><block type=\"varDoMethod_Python\" id=\"euk#bP:=-t?/^HkbQeAp\"><mutation items=\"1\"></mutation><field name=\"VAR\" id=\"zq]t,,UR`GWj6?Hub9%a\">pd</field><field name=\"MEMBER\">read_csv</field><data>pd:read_csv</data><value name=\"ADD0\"><block type=\"text\" id=\"uXF*vA1y:R}D1bf_0r{N\"><field name=\"TEXT\">datasets/flower-data-2020.csv</field></block></value></block></value></block></xml>"
   ]
  },
  {
   "cell_type": "markdown",
   "metadata": {},
   "source": [
    "## Flower mean/median/mode\n",
    "\n",
    "In the next three cells, use the dataframe to calculate the mean, median, and mode."
   ]
  },
  {
   "cell_type": "code",
   "execution_count": 3,
   "metadata": {},
   "outputs": [
    {
     "name": "stderr",
     "output_type": "stream",
     "text": [
      "__main__:1: FutureWarning: Dropping of nuisance columns in DataFrame reductions (with 'numeric_only=None') is deprecated; in a future version this will raise TypeError.  Select only valid columns before calling the reduction.\n"
     ]
    },
    {
     "data": {
      "text/plain": [
       "Size    2.109524\n",
       "dtype: float64"
      ]
     },
     "execution_count": 3,
     "metadata": {},
     "output_type": "execute_result"
    }
   ],
   "source": [
    "dataframe.mean()\n",
    "\n",
    "#<xml xmlns=\"https://developers.google.com/blockly/xml\"><variables><variable id=\"[V~uW+0L/4GW;45ulv+l\">dataframe</variable></variables><block type=\"varDoMethod_Python\" id=\"]I:]}wMu=(Gnu*RD$$~9\" x=\"8\" y=\"188\"><field name=\"VAR\" id=\"[V~uW+0L/4GW;45ulv+l\">dataframe</field><field name=\"MEMBER\">mean</field><data>dataframe:mean</data></block></xml>"
   ]
  },
  {
   "cell_type": "code",
   "execution_count": 4,
   "metadata": {},
   "outputs": [
    {
     "name": "stderr",
     "output_type": "stream",
     "text": [
      "__main__:1: FutureWarning: Dropping of nuisance columns in DataFrame reductions (with 'numeric_only=None') is deprecated; in a future version this will raise TypeError.  Select only valid columns before calling the reduction.\n"
     ]
    },
    {
     "data": {
      "text/plain": [
       "Size    2.0\n",
       "dtype: float64"
      ]
     },
     "execution_count": 4,
     "metadata": {},
     "output_type": "execute_result"
    }
   ],
   "source": [
    "dataframe.median()\n",
    "\n",
    "#<xml xmlns=\"https://developers.google.com/blockly/xml\"><variables><variable id=\"[V~uW+0L/4GW;45ulv+l\">dataframe</variable></variables><block type=\"varDoMethod_Python\" id=\"]I:]}wMu=(Gnu*RD$$~9\" x=\"8\" y=\"188\"><field name=\"VAR\" id=\"[V~uW+0L/4GW;45ulv+l\">dataframe</field><field name=\"MEMBER\">median</field><data>dataframe:median</data></block></xml>"
   ]
  },
  {
   "cell_type": "code",
   "execution_count": 5,
   "metadata": {},
   "outputs": [
    {
     "data": {
      "text/html": [
       "<div>\n",
       "<style scoped>\n",
       "    .dataframe tbody tr th:only-of-type {\n",
       "        vertical-align: middle;\n",
       "    }\n",
       "\n",
       "    .dataframe tbody tr th {\n",
       "        vertical-align: top;\n",
       "    }\n",
       "\n",
       "    .dataframe thead th {\n",
       "        text-align: right;\n",
       "    }\n",
       "</style>\n",
       "<table border=\"1\" class=\"dataframe\">\n",
       "  <thead>\n",
       "    <tr style=\"text-align: right;\">\n",
       "      <th></th>\n",
       "      <th>PetalColor</th>\n",
       "      <th>PetalShape</th>\n",
       "      <th>Size</th>\n",
       "    </tr>\n",
       "  </thead>\n",
       "  <tbody>\n",
       "    <tr>\n",
       "      <th>0</th>\n",
       "      <td>unicolor</td>\n",
       "      <td>unrounded</td>\n",
       "      <td>2</td>\n",
       "    </tr>\n",
       "  </tbody>\n",
       "</table>\n",
       "</div>"
      ],
      "text/plain": [
       "  PetalColor PetalShape  Size\n",
       "0   unicolor  unrounded     2"
      ]
     },
     "execution_count": 5,
     "metadata": {},
     "output_type": "execute_result"
    }
   ],
   "source": [
    "dataframe.mode()\n",
    "\n",
    "#<xml xmlns=\"https://developers.google.com/blockly/xml\"><variables><variable id=\"[V~uW+0L/4GW;45ulv+l\">dataframe</variable></variables><block type=\"varDoMethod_Python\" id=\"]I:]}wMu=(Gnu*RD$$~9\" x=\"8\" y=\"188\"><field name=\"VAR\" id=\"[V~uW+0L/4GW;45ulv+l\">dataframe</field><field name=\"MEMBER\">mode</field><data>dataframe:mode</data></block></xml>"
   ]
  },
  {
   "cell_type": "markdown",
   "metadata": {},
   "source": [
    "**QUESTION:**\n",
    "\n",
    "How are the mean, median, and mode different here?\n",
    "Write your answer in the cell below."
   ]
  },
  {
   "cell_type": "markdown",
   "metadata": {},
   "source": [
    "**ANSWER: (click here to edit)**\n",
    "\n",
    "*In this case, the mean, median, and mode are almost the same*"
   ]
  },
  {
   "cell_type": "markdown",
   "metadata": {},
   "source": [
    "**QUESTION:**\n",
    "\n",
    "Why do the mean and the median have values for `Size`, but the mode has values for `PetalColor`, `PetalShape`, and `Size`?\n",
    "Write your answer in the cell below."
   ]
  },
  {
   "cell_type": "markdown",
   "metadata": {},
   "source": [
    "**ANSWER: (click here to edit)**\n",
    "\n",
    "*`Size` is numeric (actually ordinal), so it is the only variable Python will calculate mean and median for. \n",
    "It actually is incorrect to calculate mean because it is ordinal, but Python isn't smart enough to know that because we didn't tell it our data was ordinal. \n",
    "This is a good example of being careful with computers - they will do exactly what we tell them to do even if it is incorrect. \n",
    "It is up to us to make sure we understand the reasoning behind what we are doing so we can recognize when the computer gives us garbage answers.*"
   ]
  },
  {
   "cell_type": "markdown",
   "metadata": {},
   "source": [
    "## Outlier effects\n",
    "\n",
    "Let's look at some different data: a students quiz grades across a course.\n",
    "\n",
    "Suppose a student received the following grades:\n",
    "\n",
    "- 0\n",
    "- 85\n",
    "- 82\n",
    "- 91\n",
    "- 82\n",
    "\n",
    "In the next cell, make a new dataframe (with a new variable) using this list of numbers (in a double list)."
   ]
  },
  {
   "cell_type": "code",
   "execution_count": 6,
   "metadata": {},
   "outputs": [],
   "source": [
    "grades = pd.DataFrame([0, 85, 82, 91, 82])\n",
    "\n",
    "#<xml xmlns=\"https://developers.google.com/blockly/xml\"><variables><variable id=\"0Z~AP{;(K9p1).M_No)5\">grades</variable><variable id=\"zq]t,,UR`GWj6?Hub9%a\">pd</variable></variables><block type=\"variables_set\" id=\"^,Y2E?u8,{P0eK?4*v(^\" x=\"31\" y=\"194\"><field name=\"VAR\" id=\"0Z~AP{;(K9p1).M_No)5\">grades</field><value name=\"VALUE\"><block type=\"varCreateObject_Python\" id=\".`?GJi9%01TcebUauJK?\"><mutation items=\"1\"></mutation><field name=\"VAR\" id=\"zq]t,,UR`GWj6?Hub9%a\">pd</field><field name=\"MEMBER\">DataFrame</field><data>pd:DataFrame</data><value name=\"ADD0\"><block type=\"lists_create_with\" id=\"Ec(e*=i[/o*JY1wPJ3b)\"><mutation items=\"5\"></mutation><value name=\"ADD0\"><block type=\"math_number\" id=\"rcV5tFvv,4uV3n%R]~7%\"><field name=\"NUM\">0</field></block></value><value name=\"ADD1\"><block type=\"math_number\" id=\"sb#uTkds?[6oppKnWe6a\"><field name=\"NUM\">85</field></block></value><value name=\"ADD2\"><block type=\"math_number\" id=\"]5VLtY%^_Vy#5w;#T_V0\"><field name=\"NUM\">82</field></block></value><value name=\"ADD3\"><block type=\"math_number\" id=\"wPfzb`0n;_XZ~_;v|w{H\"><field name=\"NUM\">91</field></block></value><value name=\"ADD4\"><block type=\"math_number\" id=\"WvJsD9l8`Y]rNR~fMT/N\"><field name=\"NUM\">82</field></block></value></block></value></block></value></block></xml>"
   ]
  },
  {
   "cell_type": "markdown",
   "metadata": {},
   "source": [
    "Now `print` the mean, median, and mode of this grades dataframe in the next cell."
   ]
  },
  {
   "cell_type": "code",
   "execution_count": 7,
   "metadata": {},
   "outputs": [
    {
     "name": "stdout",
     "output_type": "stream",
     "text": [
      "0    82.0\n",
      "dtype: float64\n",
      "0    68.0\n",
      "dtype: float64\n",
      "    0\n",
      "0  82\n"
     ]
    }
   ],
   "source": [
    "print(grades.median())\n",
    "print(grades.mean())\n",
    "print(grades.mode())\n",
    "\n",
    "#<xml xmlns=\"https://developers.google.com/blockly/xml\"><variables><variable id=\"0Z~AP{;(K9p1).M_No)5\">grades</variable></variables><block type=\"text_print\" id=\"`jn6J~kaejV!Cx!s{zP-\" x=\"111\" y=\"117\"><value name=\"TEXT\"><shadow type=\"text\" id=\"X+4}*qR3]Q;+8cTr}T0?\"><field name=\"TEXT\">abc</field></shadow><block type=\"varDoMethod_Python\" id=\"Pl:^oR,*DCGup|yt@jhP\"><field name=\"VAR\" id=\"0Z~AP{;(K9p1).M_No)5\">grades</field><field name=\"MEMBER\">median</field><data>grades:median</data></block></value><next><block type=\"text_print\" id=\",V)HMF*rq4(p2J4=%*g^\"><value name=\"TEXT\"><shadow type=\"text\"><field name=\"TEXT\">abc</field></shadow><block type=\"varDoMethod_Python\" id=\"{^HKlDM0I%-#.W.[A$z.\"><field name=\"VAR\" id=\"0Z~AP{;(K9p1).M_No)5\">grades</field><field name=\"MEMBER\">mean</field><data>grades:mean</data></block></value><next><block type=\"text_print\" id=\"{OV%_W4ZT16c$9VH1k+Q\"><value name=\"TEXT\"><shadow type=\"text\"><field name=\"TEXT\">abc</field></shadow><block type=\"varDoMethod_Python\" id=\"(ObS8~x]Bf^k/pph|KA2\"><field name=\"VAR\" id=\"0Z~AP{;(K9p1).M_No)5\">grades</field><field name=\"MEMBER\">mode</field><data>grades:mode</data></block></value></block></next></block></next></block></xml>"
   ]
  },
  {
   "cell_type": "markdown",
   "metadata": {},
   "source": [
    "In the cell below, copy the blocks where you created the grades dataframe but remove the `0` from the list."
   ]
  },
  {
   "cell_type": "code",
   "execution_count": 8,
   "metadata": {},
   "outputs": [],
   "source": [
    "grades = pd.DataFrame([85, 82, 82, 91])\n",
    "\n",
    "#<xml xmlns=\"https://developers.google.com/blockly/xml\"><variables><variable id=\"0Z~AP{;(K9p1).M_No)5\">grades</variable><variable id=\"zq]t,,UR`GWj6?Hub9%a\">pd</variable></variables><block type=\"variables_set\" id=\"^,Y2E?u8,{P0eK?4*v(^\" x=\"31\" y=\"194\"><field name=\"VAR\" id=\"0Z~AP{;(K9p1).M_No)5\">grades</field><value name=\"VALUE\"><block type=\"varCreateObject_Python\" id=\".`?GJi9%01TcebUauJK?\"><mutation items=\"1\"></mutation><field name=\"VAR\" id=\"zq]t,,UR`GWj6?Hub9%a\">pd</field><field name=\"MEMBER\">DataFrame</field><data>pd:DataFrame</data><value name=\"ADD0\"><block type=\"lists_create_with\" id=\"Ec(e*=i[/o*JY1wPJ3b)\"><mutation items=\"4\"></mutation><value name=\"ADD0\"><block type=\"math_number\" id=\"sb#uTkds?[6oppKnWe6a\"><field name=\"NUM\">85</field></block></value><value name=\"ADD1\"><block type=\"math_number\" id=\"WvJsD9l8`Y]rNR~fMT/N\"><field name=\"NUM\">82</field></block></value><value name=\"ADD2\"><block type=\"math_number\" id=\"]5VLtY%^_Vy#5w;#T_V0\"><field name=\"NUM\">82</field></block></value><value name=\"ADD3\"><block type=\"math_number\" id=\"wPfzb`0n;_XZ~_;v|w{H\"><field name=\"NUM\">91</field></block></value></block></value></block></value></block></xml>"
   ]
  },
  {
   "cell_type": "markdown",
   "metadata": {},
   "source": [
    "Now `print` the mean, median, and mode of this grades dataframe (without `0`) in the next cell."
   ]
  },
  {
   "cell_type": "code",
   "execution_count": 9,
   "metadata": {},
   "outputs": [
    {
     "name": "stdout",
     "output_type": "stream",
     "text": [
      "0    83.5\n",
      "dtype: float64\n",
      "0    85.0\n",
      "dtype: float64\n",
      "    0\n",
      "0  82\n"
     ]
    }
   ],
   "source": [
    "print(grades.median())\n",
    "print(grades.mean())\n",
    "print(grades.mode())\n",
    "\n",
    "#<xml xmlns=\"https://developers.google.com/blockly/xml\"><variables><variable id=\"0Z~AP{;(K9p1).M_No)5\">grades</variable></variables><block type=\"text_print\" id=\"`jn6J~kaejV!Cx!s{zP-\" x=\"111\" y=\"117\"><value name=\"TEXT\"><shadow type=\"text\" id=\"X+4}*qR3]Q;+8cTr}T0?\"><field name=\"TEXT\">abc</field></shadow><block type=\"varDoMethod_Python\" id=\"Pl:^oR,*DCGup|yt@jhP\"><field name=\"VAR\" id=\"0Z~AP{;(K9p1).M_No)5\">grades</field><field name=\"MEMBER\">median</field><data>grades:median</data></block></value><next><block type=\"text_print\" id=\",V)HMF*rq4(p2J4=%*g^\"><value name=\"TEXT\"><shadow type=\"text\"><field name=\"TEXT\">abc</field></shadow><block type=\"varDoMethod_Python\" id=\"{^HKlDM0I%-#.W.[A$z.\"><field name=\"VAR\" id=\"0Z~AP{;(K9p1).M_No)5\">grades</field><field name=\"MEMBER\">mean</field><data>grades:mean</data></block></value><next><block type=\"text_print\" id=\"{OV%_W4ZT16c$9VH1k+Q\"><value name=\"TEXT\"><shadow type=\"text\"><field name=\"TEXT\">abc</field></shadow><block type=\"varDoMethod_Python\" id=\"(ObS8~x]Bf^k/pph|KA2\"><field name=\"VAR\" id=\"0Z~AP{;(K9p1).M_No)5\">grades</field><field name=\"MEMBER\">mode</field><data>grades:mode</data></block></value></block></next></block></next></block></xml>"
   ]
  },
  {
   "cell_type": "markdown",
   "metadata": {},
   "source": [
    "**QUESTION:**\n",
    "\n",
    "- How did the mean, median, and mode change after you dropped the zero?\n",
    "- What does dropping the zero mean to the student who took this class?\n",
    "- Which measures are most affected/least affected by outliers?\n",
    "\n",
    "Write your answer in the cell below."
   ]
  },
  {
   "cell_type": "markdown",
   "metadata": {},
   "source": [
    "**ANSWER: (click here to edit)**\n",
    "\n",
    "*Median changed very slightly and mode did not change at all.\n",
    "Mean changed dramatically from 68 to 85.\n",
    "This means the student would go from a D to a B in the class.\n",
    "This is an example of how an outlier can have a strong effect on the mean, and how the other measures of central tendency are resistant to outliers.*"
   ]
  },
  {
   "cell_type": "markdown",
   "metadata": {},
   "source": [
    "## Dataframe sampling\n",
    "\n",
    "Let's switch back to the flower dataframe.\n",
    "\n",
    "In the cell below, get the five number summary of the dataframe (i.e. `describe`)."
   ]
  },
  {
   "cell_type": "code",
   "execution_count": 10,
   "metadata": {},
   "outputs": [
    {
     "data": {
      "text/html": [
       "<div>\n",
       "<style scoped>\n",
       "    .dataframe tbody tr th:only-of-type {\n",
       "        vertical-align: middle;\n",
       "    }\n",
       "\n",
       "    .dataframe tbody tr th {\n",
       "        vertical-align: top;\n",
       "    }\n",
       "\n",
       "    .dataframe thead th {\n",
       "        text-align: right;\n",
       "    }\n",
       "</style>\n",
       "<table border=\"1\" class=\"dataframe\">\n",
       "  <thead>\n",
       "    <tr style=\"text-align: right;\">\n",
       "      <th></th>\n",
       "      <th>Size</th>\n",
       "    </tr>\n",
       "  </thead>\n",
       "  <tbody>\n",
       "    <tr>\n",
       "      <th>count</th>\n",
       "      <td>210.000000</td>\n",
       "    </tr>\n",
       "    <tr>\n",
       "      <th>mean</th>\n",
       "      <td>2.109524</td>\n",
       "    </tr>\n",
       "    <tr>\n",
       "      <th>std</th>\n",
       "      <td>0.740105</td>\n",
       "    </tr>\n",
       "    <tr>\n",
       "      <th>min</th>\n",
       "      <td>1.000000</td>\n",
       "    </tr>\n",
       "    <tr>\n",
       "      <th>25%</th>\n",
       "      <td>2.000000</td>\n",
       "    </tr>\n",
       "    <tr>\n",
       "      <th>50%</th>\n",
       "      <td>2.000000</td>\n",
       "    </tr>\n",
       "    <tr>\n",
       "      <th>75%</th>\n",
       "      <td>3.000000</td>\n",
       "    </tr>\n",
       "    <tr>\n",
       "      <th>max</th>\n",
       "      <td>3.000000</td>\n",
       "    </tr>\n",
       "  </tbody>\n",
       "</table>\n",
       "</div>"
      ],
      "text/plain": [
       "             Size\n",
       "count  210.000000\n",
       "mean     2.109524\n",
       "std      0.740105\n",
       "min      1.000000\n",
       "25%      2.000000\n",
       "50%      2.000000\n",
       "75%      3.000000\n",
       "max      3.000000"
      ]
     },
     "execution_count": 10,
     "metadata": {},
     "output_type": "execute_result"
    }
   ],
   "source": [
    "dataframe.describe()\n",
    "\n",
    "#<xml xmlns=\"https://developers.google.com/blockly/xml\"><variables><variable id=\"[V~uW+0L/4GW;45ulv+l\">dataframe</variable></variables><block type=\"varDoMethod_Python\" id=\"O3QcP4Y+iT~?:8x5/Mld\" x=\"8\" y=\"188\"><field name=\"VAR\" id=\"[V~uW+0L/4GW;45ulv+l\">dataframe</field><field name=\"MEMBER\">describe</field><data>dataframe:describe</data></block></xml>"
   ]
  },
  {
   "cell_type": "markdown",
   "metadata": {},
   "source": [
    "## Sampling\n",
    "\n",
    "Now let's take samples from the flower dataframe, get their five number summaries, and compare those to each other and the entire dataframe.\n",
    "\n",
    "In the cell below, take a sample of `10` from the flowers dataframe, store it in a variable, and display the sample."
   ]
  },
  {
   "cell_type": "code",
   "execution_count": 11,
   "metadata": {},
   "outputs": [
    {
     "data": {
      "text/html": [
       "<div>\n",
       "<style scoped>\n",
       "    .dataframe tbody tr th:only-of-type {\n",
       "        vertical-align: middle;\n",
       "    }\n",
       "\n",
       "    .dataframe tbody tr th {\n",
       "        vertical-align: top;\n",
       "    }\n",
       "\n",
       "    .dataframe thead th {\n",
       "        text-align: right;\n",
       "    }\n",
       "</style>\n",
       "<table border=\"1\" class=\"dataframe\">\n",
       "  <thead>\n",
       "    <tr style=\"text-align: right;\">\n",
       "      <th></th>\n",
       "      <th>PetalColor</th>\n",
       "      <th>PetalShape</th>\n",
       "      <th>Size</th>\n",
       "    </tr>\n",
       "  </thead>\n",
       "  <tbody>\n",
       "    <tr>\n",
       "      <th>41</th>\n",
       "      <td>unicolor</td>\n",
       "      <td>rounded</td>\n",
       "      <td>1</td>\n",
       "    </tr>\n",
       "    <tr>\n",
       "      <th>29</th>\n",
       "      <td>unicolor</td>\n",
       "      <td>rounded</td>\n",
       "      <td>2</td>\n",
       "    </tr>\n",
       "    <tr>\n",
       "      <th>110</th>\n",
       "      <td>unicolor</td>\n",
       "      <td>unrounded</td>\n",
       "      <td>2</td>\n",
       "    </tr>\n",
       "    <tr>\n",
       "      <th>49</th>\n",
       "      <td>unicolor</td>\n",
       "      <td>rounded</td>\n",
       "      <td>2</td>\n",
       "    </tr>\n",
       "    <tr>\n",
       "      <th>45</th>\n",
       "      <td>multicolor</td>\n",
       "      <td>unrounded</td>\n",
       "      <td>3</td>\n",
       "    </tr>\n",
       "    <tr>\n",
       "      <th>8</th>\n",
       "      <td>unicolor</td>\n",
       "      <td>rounded</td>\n",
       "      <td>1</td>\n",
       "    </tr>\n",
       "    <tr>\n",
       "      <th>99</th>\n",
       "      <td>unicolor</td>\n",
       "      <td>rounded</td>\n",
       "      <td>2</td>\n",
       "    </tr>\n",
       "    <tr>\n",
       "      <th>191</th>\n",
       "      <td>unicolor</td>\n",
       "      <td>unrounded</td>\n",
       "      <td>1</td>\n",
       "    </tr>\n",
       "    <tr>\n",
       "      <th>149</th>\n",
       "      <td>unicolor</td>\n",
       "      <td>unrounded</td>\n",
       "      <td>1</td>\n",
       "    </tr>\n",
       "    <tr>\n",
       "      <th>21</th>\n",
       "      <td>unicolor</td>\n",
       "      <td>unrounded</td>\n",
       "      <td>3</td>\n",
       "    </tr>\n",
       "  </tbody>\n",
       "</table>\n",
       "</div>"
      ],
      "text/plain": [
       "     PetalColor PetalShape  Size\n",
       "41     unicolor    rounded     1\n",
       "29     unicolor    rounded     2\n",
       "110    unicolor  unrounded     2\n",
       "49     unicolor    rounded     2\n",
       "45   multicolor  unrounded     3\n",
       "8      unicolor    rounded     1\n",
       "99     unicolor    rounded     2\n",
       "191    unicolor  unrounded     1\n",
       "149    unicolor  unrounded     1\n",
       "21     unicolor  unrounded     3"
      ]
     },
     "execution_count": 11,
     "metadata": {},
     "output_type": "execute_result"
    }
   ],
   "source": [
    "sample = dataframe.sample(10)\n",
    "\n",
    "sample\n",
    "\n",
    "#<xml xmlns=\"https://developers.google.com/blockly/xml\"><variables><variable id=\"X~V70-15t9L^b}[IjBoW\">sample</variable><variable id=\"[V~uW+0L/4GW;45ulv+l\">dataframe</variable></variables><block type=\"variables_set\" id=\"X2Q0lhlIuB;M-}%}kt0@\" x=\"137\" y=\"151\"><field name=\"VAR\" id=\"X~V70-15t9L^b}[IjBoW\">sample</field><value name=\"VALUE\"><block type=\"varDoMethod_Python\" id=\"}THa7gMDOBGv~{O0J-}v\"><mutation items=\"1\"></mutation><field name=\"VAR\" id=\"[V~uW+0L/4GW;45ulv+l\">dataframe</field><field name=\"MEMBER\">sample</field><data>dataframe:sample</data><value name=\"ADD0\"><block type=\"math_number\" id=\"x6aHWTYmPfX=;4W1C.io\"><field name=\"NUM\">10</field></block></value></block></value></block><block type=\"variables_get\" id=\".%[gOquwCx4nt[!vFu@%\" x=\"139\" y=\"250\"><field name=\"VAR\" id=\"X~V70-15t9L^b}[IjBoW\">sample</field></block></xml>"
   ]
  },
  {
   "cell_type": "markdown",
   "metadata": {},
   "source": [
    "In the cell below, repeat what you did above (take a sample of `10` and store it in a variable) but add below that a block doing a five number summary of the sample."
   ]
  },
  {
   "cell_type": "code",
   "execution_count": 12,
   "metadata": {},
   "outputs": [
    {
     "data": {
      "text/html": [
       "<div>\n",
       "<style scoped>\n",
       "    .dataframe tbody tr th:only-of-type {\n",
       "        vertical-align: middle;\n",
       "    }\n",
       "\n",
       "    .dataframe tbody tr th {\n",
       "        vertical-align: top;\n",
       "    }\n",
       "\n",
       "    .dataframe thead th {\n",
       "        text-align: right;\n",
       "    }\n",
       "</style>\n",
       "<table border=\"1\" class=\"dataframe\">\n",
       "  <thead>\n",
       "    <tr style=\"text-align: right;\">\n",
       "      <th></th>\n",
       "      <th>Size</th>\n",
       "    </tr>\n",
       "  </thead>\n",
       "  <tbody>\n",
       "    <tr>\n",
       "      <th>count</th>\n",
       "      <td>10.000000</td>\n",
       "    </tr>\n",
       "    <tr>\n",
       "      <th>mean</th>\n",
       "      <td>2.200000</td>\n",
       "    </tr>\n",
       "    <tr>\n",
       "      <th>std</th>\n",
       "      <td>0.632456</td>\n",
       "    </tr>\n",
       "    <tr>\n",
       "      <th>min</th>\n",
       "      <td>1.000000</td>\n",
       "    </tr>\n",
       "    <tr>\n",
       "      <th>25%</th>\n",
       "      <td>2.000000</td>\n",
       "    </tr>\n",
       "    <tr>\n",
       "      <th>50%</th>\n",
       "      <td>2.000000</td>\n",
       "    </tr>\n",
       "    <tr>\n",
       "      <th>75%</th>\n",
       "      <td>2.750000</td>\n",
       "    </tr>\n",
       "    <tr>\n",
       "      <th>max</th>\n",
       "      <td>3.000000</td>\n",
       "    </tr>\n",
       "  </tbody>\n",
       "</table>\n",
       "</div>"
      ],
      "text/plain": [
       "            Size\n",
       "count  10.000000\n",
       "mean    2.200000\n",
       "std     0.632456\n",
       "min     1.000000\n",
       "25%     2.000000\n",
       "50%     2.000000\n",
       "75%     2.750000\n",
       "max     3.000000"
      ]
     },
     "execution_count": 12,
     "metadata": {},
     "output_type": "execute_result"
    }
   ],
   "source": [
    "sample = dataframe.sample(10)\n",
    "\n",
    "sample.describe()\n",
    "\n",
    "#<xml xmlns=\"https://developers.google.com/blockly/xml\"><variables><variable id=\"X~V70-15t9L^b}[IjBoW\">sample</variable><variable id=\"[V~uW+0L/4GW;45ulv+l\">dataframe</variable></variables><block type=\"variables_set\" id=\"X2Q0lhlIuB;M-}%}kt0@\" x=\"174\" y=\"209\"><field name=\"VAR\" id=\"X~V70-15t9L^b}[IjBoW\">sample</field><value name=\"VALUE\"><block type=\"varDoMethod_Python\" id=\"}THa7gMDOBGv~{O0J-}v\"><mutation items=\"1\"></mutation><field name=\"VAR\" id=\"[V~uW+0L/4GW;45ulv+l\">dataframe</field><field name=\"MEMBER\">sample</field><data>dataframe:sample</data><value name=\"ADD0\"><block type=\"math_number\" id=\"x6aHWTYmPfX=;4W1C.io\"><field name=\"NUM\">10</field></block></value></block></value></block><block type=\"varDoMethod_Python\" id=\"iSdb|@rBMqS+La]jDS%.\" x=\"163\" y=\"331\"><mutation items=\"1\"></mutation><field name=\"VAR\" id=\"X~V70-15t9L^b}[IjBoW\">sample</field><field name=\"MEMBER\">describe</field><data>sample:describe</data></block></xml>"
   ]
  },
  {
   "cell_type": "markdown",
   "metadata": {},
   "source": [
    "Run this code cell a couple of times (trick: do Ctrl + Enter) to answer the next question.\n",
    "\n",
    "**QUESTION:**\n",
    "\n",
    "- How do min/max change across samples?\n",
    "- How does mean change across samples?\n",
    "- Why do you think this is, and do you expect to see it with other data?\n",
    "\n",
    "Write your answer in the cell below."
   ]
  },
  {
   "cell_type": "markdown",
   "metadata": {},
   "source": [
    "**ANSWER: (click here to edit)**\n",
    "\n",
    "*Min/max seem to be the same across samples.\n",
    "Mean changes a bit across samples like it did before.\n",
    "In general, we wouldn't expect min/max to be stable across samples.\n",
    "We often think of the min/max as being a unique value in the data, so the chance of getting either across multiple random samples is very low.\n",
    "In this case it happened because `Size` is ordinal with 3 values, and the min and max values occur very often*"
   ]
  },
  {
   "cell_type": "markdown",
   "metadata": {},
   "source": [
    "<!--  -->"
   ]
  }
 ],
 "metadata": {
  "kernelspec": {
   "display_name": "xpython",
   "language": "python",
   "name": "xpython"
  },
  "language_info": {
   "file_extension": ".py",
   "mimetype": "text/x-python",
   "name": "python",
   "version": "3.7.6"
  }
 },
 "nbformat": 4,
 "nbformat_minor": 4
}
